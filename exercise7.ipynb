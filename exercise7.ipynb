{
 "cells": [
  {
   "cell_type": "code",
   "execution_count": 22,
   "metadata": {
    "colab": {
     "base_uri": "https://localhost:8080/"
    },
    "id": "TJRXOdVA6KvG",
    "outputId": "cfe3b45d-49eb-41b7-f301-a2361b59ca27"
   },
   "outputs": [
    {
     "output_type": "stream",
     "name": "stdout",
     "text": [
      "Requirement already satisfied: torchvision==0.14.1 in /usr/local/lib/python3.10/dist-packages (0.14.1)\n",
      "Requirement already satisfied: typing-extensions in /usr/local/lib/python3.10/dist-packages (from torchvision==0.14.1) (4.9.0)\n",
      "Requirement already satisfied: numpy in /usr/local/lib/python3.10/dist-packages (from torchvision==0.14.1) (1.25.2)\n",
      "Requirement already satisfied: requests in /usr/local/lib/python3.10/dist-packages (from torchvision==0.14.1) (2.31.0)\n",
      "Requirement already satisfied: torch==1.13.1 in /usr/local/lib/python3.10/dist-packages (from torchvision==0.14.1) (1.13.1)\n",
      "Requirement already satisfied: pillow!=8.3.*,>=5.3.0 in /usr/local/lib/python3.10/dist-packages (from torchvision==0.14.1) (9.4.0)\n",
      "Requirement already satisfied: nvidia-cuda-runtime-cu11==11.7.99 in /usr/local/lib/python3.10/dist-packages (from torch==1.13.1->torchvision==0.14.1) (11.7.99)\n",
      "Requirement already satisfied: nvidia-cudnn-cu11==8.5.0.96 in /usr/local/lib/python3.10/dist-packages (from torch==1.13.1->torchvision==0.14.1) (8.5.0.96)\n",
      "Requirement already satisfied: nvidia-cublas-cu11==11.10.3.66 in /usr/local/lib/python3.10/dist-packages (from torch==1.13.1->torchvision==0.14.1) (11.10.3.66)\n",
      "Requirement already satisfied: nvidia-cuda-nvrtc-cu11==11.7.99 in /usr/local/lib/python3.10/dist-packages (from torch==1.13.1->torchvision==0.14.1) (11.7.99)\n",
      "Requirement already satisfied: setuptools in /usr/local/lib/python3.10/dist-packages (from nvidia-cublas-cu11==11.10.3.66->torch==1.13.1->torchvision==0.14.1) (67.7.2)\n",
      "Requirement already satisfied: wheel in /usr/local/lib/python3.10/dist-packages (from nvidia-cublas-cu11==11.10.3.66->torch==1.13.1->torchvision==0.14.1) (0.42.0)\n",
      "Requirement already satisfied: charset-normalizer<4,>=2 in /usr/local/lib/python3.10/dist-packages (from requests->torchvision==0.14.1) (3.3.2)\n",
      "Requirement already satisfied: idna<4,>=2.5 in /usr/local/lib/python3.10/dist-packages (from requests->torchvision==0.14.1) (3.6)\n",
      "Requirement already satisfied: urllib3<3,>=1.21.1 in /usr/local/lib/python3.10/dist-packages (from requests->torchvision==0.14.1) (2.0.7)\n",
      "Requirement already satisfied: certifi>=2017.4.17 in /usr/local/lib/python3.10/dist-packages (from requests->torchvision==0.14.1) (2024.2.2)\n"
     ]
    }
   ],
   "source": [
    "!pip install torchvision==0.14.1\n",
    "!pip install -q catalyst"
   ]
  },
  {
   "cell_type": "code",
   "execution_count": 40,
   "metadata": {
    "colab": {
     "base_uri": "https://localhost:8080/"
    },
    "id": "2sYueD4x67h_",
    "outputId": "eba9b3c4-6e65-4082-ec9d-5695b62e4b4a"
   },
   "outputs": [
    {
     "output_type": "stream",
     "name": "stdout",
     "text": [
      "CUDA is available! Training on GPU ...\n"
     ]
    }
   ],
   "source": [
    "import os\n",
    "import torch\n",
    "import torchvision\n",
    "\n",
    "from torch.utils.data import TensorDataset, DataLoader\n",
    "from catalyst import utils\n",
    "from catalyst.contrib.datasets import MNIST\n",
    "from torch import nn\n",
    "import torch\n",
    "train_on_gpu = torch.cuda.is_available()\n",
    "if not train_on_gpu:\n",
    "  print('CUDA is not available. Training on CPU ...')\n",
    "else:\n",
    "  print('CUDA is available! Training on GPU ...')\n",
    "DEVICE = torch.device(\"cuda\")\n",
    "\n",
    "N = 2\n",
    "utils.set_global_seed(N)\n",
    "train_dataset = MNIST(root=os.getcwd(), train=True, download=True)\n",
    "val_dataset = MNIST(root=os.getcwd(), train=False)\n",
    "train_dataloader = DataLoader(train_dataset, batch_size=128)\n",
    "val_dataloader = DataLoader(val_dataset, batch_size=128)"
   ]
  },
  {
   "cell_type": "code",
   "execution_count": 41,
   "metadata": {
    "id": "75NAce3Tr2hI"
   },
   "outputs": [],
   "source": [
    "class Identical(nn.Module):\n",
    "    def forward(self, x):\n",
    "        return x\n",
    "\n",
    "class Flatten(nn.Module):\n",
    "    def forward(self, x):\n",
    "        batch_size = x.size(0)\n",
    "        return x.view(batch_size, -1)\n",
    "\n",
    "activation = Identical\n",
    "model = nn.Sequential(\n",
    "    Flatten(),\n",
    "    nn.Linear(28*28, 128),\n",
    "    activation(),\n",
    "    nn.Linear(128, 128),\n",
    "    activation(),\n",
    "    nn.Linear(128, 10)\n",
    ")\n",
    "\n"
   ]
  },
  {
   "cell_type": "code",
   "source": [
    "criterion = nn.CrossEntropyLoss()\n",
    "optimizer = torch.optim.Adam(model.parameters())\n",
    "loaders = {\"train\": train_dataloader, \"valid\": val_dataloader}\n"
   ],
   "metadata": {
    "id": "CQcMpKsJQ7nF"
   },
   "execution_count": 42,
   "outputs": []
  },
  {
   "cell_type": "code",
   "source": [
    "max_epochs = N\n",
    "accuracy = {\"train\": [], \"valid\": []}\n",
    "for epoch in range(max_epochs):\n",
    "    epoch_correct = 0\n",
    "    epoch_all = 0\n",
    "    for k, dataloader in loaders.items():\n",
    "        for x_batch, y_batch in dataloader:\n",
    "            if k == \"train\":\n",
    "                model.train()\n",
    "                optimizer.zero_grad()\n",
    "                outp = model(x_batch.float().unsqueeze(1))\n",
    "            else:\n",
    "                model.eval()\n",
    "                with torch.no_grad():\n",
    "                    outp = model(x_batch.float().unsqueeze(1))\n",
    "            preds = outp.argmax(-1)\n",
    "            correct = (preds == y_batch).sum()\n",
    "\n",
    "            all = len(y_batch)\n",
    "            epoch_correct += correct.item()\n",
    "            epoch_all += all\n",
    "            if k == \"train\":\n",
    "                loss = criterion(outp, y_batch)\n",
    "                loss.backward()\n",
    "                optimizer.step()\n",
    "\n",
    "    if k == \"train\":\n",
    "        print(f\"Epoch: {epoch+1}\")\n",
    "    print(f\"Loader:{k}.Accuracy: {epoch_correct/epoch_all}\")\n",
    "    accuracy[k].append(epoch_correct/epoch_all)\n"
   ],
   "metadata": {
    "colab": {
     "base_uri": "https://localhost:8080/"
    },
    "id": "CdIPx7g_Q-PW",
    "outputId": "9e6abe23-c648-4d42-c747-3445b4950e13"
   },
   "execution_count": 43,
   "outputs": [
    {
     "output_type": "stream",
     "name": "stdout",
     "text": [
      "Loader:valid.Accuracy: 0.8339142857142857\n",
      "Loader:valid.Accuracy: 0.853\n"
     ]
    }
   ]
  },
  {
   "cell_type": "code",
   "source": [
    "model = torchvision.models.resnet18(pretrained=True).to(DEVICE)\n",
    "ct = 0\n",
    "for child in model.children():\n",
    "    ct += 1\n",
    "    if ct < 4:\n",
    "        for param in child.parameters():\n",
    "            param.requires_grad = False\n"
   ],
   "metadata": {
    "id": "WG3V_MBPRcYY"
   },
   "execution_count": 45,
   "outputs": []
  }
 ],
 "metadata": {
  "accelerator": "GPU",
  "colab": {
   "gpuType": "T4",
   "provenance": []
  },
  "kernelspec": {
   "display_name": "Python 3",
   "name": "python3"
  },
  "language_info": {
   "name": "python"
  }
 },
 "nbformat": 4,
 "nbformat_minor": 0
}